{
  "nbformat": 4,
  "nbformat_minor": 0,
  "metadata": {
    "colab": {
      "provenance": [],
      "gpuType": "T4",
      "authorship_tag": "ABX9TyOWqrNWbiUrOg8Ijttn1aNV",
      "include_colab_link": true
    },
    "kernelspec": {
      "name": "python3",
      "display_name": "Python 3"
    },
    "language_info": {
      "name": "python"
    },
    "accelerator": "GPU"
  },
  "cells": [
    {
      "cell_type": "markdown",
      "metadata": {
        "id": "view-in-github",
        "colab_type": "text"
      },
      "source": [
        "<a href=\"https://colab.research.google.com/github/HaywhyCoder/english-to-spanish-translation/blob/main/English_Spanish_Translator.ipynb\" target=\"_parent\"><img src=\"https://colab.research.google.com/assets/colab-badge.svg\" alt=\"Open In Colab\"/></a>"
      ]
    },
    {
      "cell_type": "code",
      "source": [
        "import kagglehub\n",
        "\n",
        "# Download latest version\n",
        "path = kagglehub.dataset_download(\"bryanpark/parallelsents\")\n",
        "\n",
        "print(\"Path to dataset files:\", path)"
      ],
      "metadata": {
        "id": "rsXtjsY8-WrM",
        "colab": {
          "base_uri": "https://localhost:8080/"
        },
        "outputId": "54dd9c6b-3d4e-4628-8621-ac370949bfcf"
      },
      "execution_count": 2,
      "outputs": [
        {
          "output_type": "stream",
          "name": "stdout",
          "text": [
            "Path to dataset files: /kaggle/input/parallelsents\n"
          ]
        }
      ]
    },
    {
      "cell_type": "markdown",
      "source": [
        "#### Import Libraries"
      ],
      "metadata": {
        "id": "man-RvqYHa2z"
      }
    },
    {
      "cell_type": "code",
      "execution_count": 5,
      "metadata": {
        "id": "czoEfBMhcRQ5"
      },
      "outputs": [],
      "source": [
        "import pandas as pd\n",
        "import warnings\n",
        "import logging\n",
        "from datasets import Dataset, DatasetDict\n",
        "from transformers import MarianTokenizer, MarianMTModel, DataCollatorForSeq2Seq, Seq2SeqTrainer, Seq2SeqTrainingArguments\n",
        "from sklearn.metrics import accuracy_score, precision_recall_fscore_support\n",
        "import torch\n",
        "from sacrebleu import corpus_bleu\n",
        "\n",
        "# Suppress specific warning related to 'Trainer.tokenizer'\n",
        "logging.getLogger(\"transformers\").setLevel(logging.ERROR)\n"
      ]
    },
    {
      "cell_type": "markdown",
      "source": [
        "#### Load Pre-trained Model"
      ],
      "metadata": {
        "id": "I3GNhHGmHrbm"
      }
    },
    {
      "cell_type": "code",
      "source": [
        "model_name = \"Helsinki-NLP/opus-mt-en-es\"\n",
        "tokenizer = MarianTokenizer.from_pretrained(model_name)\n",
        "model = MarianMTModel.from_pretrained(model_name)\n",
        "\n",
        "# Define the English sentence(s) to be translated\n",
        "english_sentences = [\n",
        "    \"Hello, how are you?\",\n",
        "    \"What is your name?\",\n",
        "    \"I love programming.\",\n",
        "    \"Transformers are powerful models.\",\n",
        "    \"Please translate this sentence.\"\n",
        "]\n",
        "\n",
        "# Translate each sentence\n",
        "translated_sentences = []\n",
        "for sentence in english_sentences:\n",
        "    inputs = tokenizer(sentence, return_tensors=\"pt\", padding=True, truncation=True)\n",
        "    outputs = model.generate(inputs[\"input_ids\"])\n",
        "    translated_text = tokenizer.decode(outputs[0], skip_special_tokens=True)\n",
        "    translated_sentences.append(translated_text)\n",
        "\n",
        "# Print the translations\n",
        "for original, translation in zip(english_sentences, translated_sentences):\n",
        "    print(f\"Original (English): {original}\")\n",
        "    print(f\"Translation (Spanish): {translation}\")\n",
        "    print()\n"
      ],
      "metadata": {
        "id": "QJKCafpLdNFS"
      },
      "execution_count": null,
      "outputs": []
    },
    {
      "cell_type": "markdown",
      "source": [
        "#### Load the Dataset"
      ],
      "metadata": {
        "id": "xjC6UuLCHz2K"
      }
    },
    {
      "cell_type": "code",
      "source": [
        "data = pd.read_csv(\"/root/.cache/kagglehub/datasets/bryanpark/parallelsents/versions/1/1000sents.csv\", on_bad_lines='skip')\n",
        "data.head()"
      ],
      "metadata": {
        "colab": {
          "base_uri": "https://localhost:8080/",
          "height": 590
        },
        "id": "DtkkrosndNDJ",
        "outputId": "83e9f581-b253-4d1d-c155-e5c935b30513"
      },
      "execution_count": 7,
      "outputs": [
        {
          "output_type": "execute_result",
          "data": {
            "text/plain": [
              "   ID HEADWORD   POS                  ENGLISH  JAPANESE  \\\n",
              "0   1       가게  NOUN              shop, store         店   \n",
              "1   2       가격  NOUN                    price    価格, 値段   \n",
              "2   3      가깝다   ADJ  to be near, to be close        近い   \n",
              "3   4       가끔   ADV  sometimes, occasionally       たまに   \n",
              "4   5     가능하다   ADJ           to be possible  可能だ, できる   \n",
              "\n",
              "                     SPANISH                INDONESIAN       EXAMPLE (KO)  \\\n",
              "0           tienda, almacén                toko, kedai  그 가게는 열 시에 문을 연다.   \n",
              "1                     precio                     harga     맘에 들어? 가격은 어때?   \n",
              "2                     cerca                      dekat    우리 집은 학교에서 가깝다.   \n",
              "3  a veces, de vez en cuando  kadang-kadang, terkadang     나는 가끔 맥주를 마신다.   \n",
              "4         ser posible, poder              memungkinkan      가능하다면 내일 오세요.   \n",
              "\n",
              "                        EXAMPLE (EN)   EXAMPLE (JA)  \\\n",
              "0         The store opens at 10 A.M.     その店は十時に開く。   \n",
              "1  Do you like it? What's the price?  気に入った? 価格はどう?   \n",
              "2        My house is near my school.     我家は学校から近い。   \n",
              "3            I sometimes drink beer.   私はたまにビールを飲む。   \n",
              "4        Come tomorrow, if possible.  できれば明日来てください。   \n",
              "\n",
              "                             EXAMPLE (ES)  \\\n",
              "0  El almacén abre a las 10 de la mañana.   \n",
              "1          ¿Te gusta? ¿Cuál es el precio?   \n",
              "2       Mi casa está cerca de mi escuela.   \n",
              "3                   A veces bebo cerveza.   \n",
              "4            Venga mañana, si es posible.   \n",
              "\n",
              "                           EXAMPLE (ID)  \n",
              "0             Toko itu buka jam 10 pagi  \n",
              "1                      Berapa harganya?  \n",
              "2  Rumah saya dekat dengan sekolah saya  \n",
              "3       Kadang – kadang saya minum bir   \n",
              "4   Jika memungkinkan, datanglah besok   "
            ],
            "text/html": [
              "\n",
              "  <div id=\"df-4789bc07-09fe-4db9-bc73-d0471246423f\" class=\"colab-df-container\">\n",
              "    <div>\n",
              "<style scoped>\n",
              "    .dataframe tbody tr th:only-of-type {\n",
              "        vertical-align: middle;\n",
              "    }\n",
              "\n",
              "    .dataframe tbody tr th {\n",
              "        vertical-align: top;\n",
              "    }\n",
              "\n",
              "    .dataframe thead th {\n",
              "        text-align: right;\n",
              "    }\n",
              "</style>\n",
              "<table border=\"1\" class=\"dataframe\">\n",
              "  <thead>\n",
              "    <tr style=\"text-align: right;\">\n",
              "      <th></th>\n",
              "      <th>ID</th>\n",
              "      <th>HEADWORD</th>\n",
              "      <th>POS</th>\n",
              "      <th>ENGLISH</th>\n",
              "      <th>JAPANESE</th>\n",
              "      <th>SPANISH</th>\n",
              "      <th>INDONESIAN</th>\n",
              "      <th>EXAMPLE (KO)</th>\n",
              "      <th>EXAMPLE (EN)</th>\n",
              "      <th>EXAMPLE (JA)</th>\n",
              "      <th>EXAMPLE (ES)</th>\n",
              "      <th>EXAMPLE (ID)</th>\n",
              "    </tr>\n",
              "  </thead>\n",
              "  <tbody>\n",
              "    <tr>\n",
              "      <th>0</th>\n",
              "      <td>1</td>\n",
              "      <td>가게</td>\n",
              "      <td>NOUN</td>\n",
              "      <td>shop, store</td>\n",
              "      <td>店</td>\n",
              "      <td>tienda, almacén</td>\n",
              "      <td>toko, kedai</td>\n",
              "      <td>그 가게는 열 시에 문을 연다.</td>\n",
              "      <td>The store opens at 10 A.M.</td>\n",
              "      <td>その店は十時に開く。</td>\n",
              "      <td>El almacén abre a las 10 de la mañana.</td>\n",
              "      <td>Toko itu buka jam 10 pagi</td>\n",
              "    </tr>\n",
              "    <tr>\n",
              "      <th>1</th>\n",
              "      <td>2</td>\n",
              "      <td>가격</td>\n",
              "      <td>NOUN</td>\n",
              "      <td>price</td>\n",
              "      <td>価格, 値段</td>\n",
              "      <td>precio</td>\n",
              "      <td>harga</td>\n",
              "      <td>맘에 들어? 가격은 어때?</td>\n",
              "      <td>Do you like it? What's the price?</td>\n",
              "      <td>気に入った? 価格はどう?</td>\n",
              "      <td>¿Te gusta? ¿Cuál es el precio?</td>\n",
              "      <td>Berapa harganya?</td>\n",
              "    </tr>\n",
              "    <tr>\n",
              "      <th>2</th>\n",
              "      <td>3</td>\n",
              "      <td>가깝다</td>\n",
              "      <td>ADJ</td>\n",
              "      <td>to be near, to be close</td>\n",
              "      <td>近い</td>\n",
              "      <td>cerca</td>\n",
              "      <td>dekat</td>\n",
              "      <td>우리 집은 학교에서 가깝다.</td>\n",
              "      <td>My house is near my school.</td>\n",
              "      <td>我家は学校から近い。</td>\n",
              "      <td>Mi casa está cerca de mi escuela.</td>\n",
              "      <td>Rumah saya dekat dengan sekolah saya</td>\n",
              "    </tr>\n",
              "    <tr>\n",
              "      <th>3</th>\n",
              "      <td>4</td>\n",
              "      <td>가끔</td>\n",
              "      <td>ADV</td>\n",
              "      <td>sometimes, occasionally</td>\n",
              "      <td>たまに</td>\n",
              "      <td>a veces, de vez en cuando</td>\n",
              "      <td>kadang-kadang, terkadang</td>\n",
              "      <td>나는 가끔 맥주를 마신다.</td>\n",
              "      <td>I sometimes drink beer.</td>\n",
              "      <td>私はたまにビールを飲む。</td>\n",
              "      <td>A veces bebo cerveza.</td>\n",
              "      <td>Kadang – kadang saya minum bir</td>\n",
              "    </tr>\n",
              "    <tr>\n",
              "      <th>4</th>\n",
              "      <td>5</td>\n",
              "      <td>가능하다</td>\n",
              "      <td>ADJ</td>\n",
              "      <td>to be possible</td>\n",
              "      <td>可能だ, できる</td>\n",
              "      <td>ser posible, poder</td>\n",
              "      <td>memungkinkan</td>\n",
              "      <td>가능하다면 내일 오세요.</td>\n",
              "      <td>Come tomorrow, if possible.</td>\n",
              "      <td>できれば明日来てください。</td>\n",
              "      <td>Venga mañana, si es posible.</td>\n",
              "      <td>Jika memungkinkan, datanglah besok</td>\n",
              "    </tr>\n",
              "  </tbody>\n",
              "</table>\n",
              "</div>\n",
              "    <div class=\"colab-df-buttons\">\n",
              "\n",
              "  <div class=\"colab-df-container\">\n",
              "    <button class=\"colab-df-convert\" onclick=\"convertToInteractive('df-4789bc07-09fe-4db9-bc73-d0471246423f')\"\n",
              "            title=\"Convert this dataframe to an interactive table.\"\n",
              "            style=\"display:none;\">\n",
              "\n",
              "  <svg xmlns=\"http://www.w3.org/2000/svg\" height=\"24px\" viewBox=\"0 -960 960 960\">\n",
              "    <path d=\"M120-120v-720h720v720H120Zm60-500h600v-160H180v160Zm220 220h160v-160H400v160Zm0 220h160v-160H400v160ZM180-400h160v-160H180v160Zm440 0h160v-160H620v160ZM180-180h160v-160H180v160Zm440 0h160v-160H620v160Z\"/>\n",
              "  </svg>\n",
              "    </button>\n",
              "\n",
              "  <style>\n",
              "    .colab-df-container {\n",
              "      display:flex;\n",
              "      gap: 12px;\n",
              "    }\n",
              "\n",
              "    .colab-df-convert {\n",
              "      background-color: #E8F0FE;\n",
              "      border: none;\n",
              "      border-radius: 50%;\n",
              "      cursor: pointer;\n",
              "      display: none;\n",
              "      fill: #1967D2;\n",
              "      height: 32px;\n",
              "      padding: 0 0 0 0;\n",
              "      width: 32px;\n",
              "    }\n",
              "\n",
              "    .colab-df-convert:hover {\n",
              "      background-color: #E2EBFA;\n",
              "      box-shadow: 0px 1px 2px rgba(60, 64, 67, 0.3), 0px 1px 3px 1px rgba(60, 64, 67, 0.15);\n",
              "      fill: #174EA6;\n",
              "    }\n",
              "\n",
              "    .colab-df-buttons div {\n",
              "      margin-bottom: 4px;\n",
              "    }\n",
              "\n",
              "    [theme=dark] .colab-df-convert {\n",
              "      background-color: #3B4455;\n",
              "      fill: #D2E3FC;\n",
              "    }\n",
              "\n",
              "    [theme=dark] .colab-df-convert:hover {\n",
              "      background-color: #434B5C;\n",
              "      box-shadow: 0px 1px 3px 1px rgba(0, 0, 0, 0.15);\n",
              "      filter: drop-shadow(0px 1px 2px rgba(0, 0, 0, 0.3));\n",
              "      fill: #FFFFFF;\n",
              "    }\n",
              "  </style>\n",
              "\n",
              "    <script>\n",
              "      const buttonEl =\n",
              "        document.querySelector('#df-4789bc07-09fe-4db9-bc73-d0471246423f button.colab-df-convert');\n",
              "      buttonEl.style.display =\n",
              "        google.colab.kernel.accessAllowed ? 'block' : 'none';\n",
              "\n",
              "      async function convertToInteractive(key) {\n",
              "        const element = document.querySelector('#df-4789bc07-09fe-4db9-bc73-d0471246423f');\n",
              "        const dataTable =\n",
              "          await google.colab.kernel.invokeFunction('convertToInteractive',\n",
              "                                                    [key], {});\n",
              "        if (!dataTable) return;\n",
              "\n",
              "        const docLinkHtml = 'Like what you see? Visit the ' +\n",
              "          '<a target=\"_blank\" href=https://colab.research.google.com/notebooks/data_table.ipynb>data table notebook</a>'\n",
              "          + ' to learn more about interactive tables.';\n",
              "        element.innerHTML = '';\n",
              "        dataTable['output_type'] = 'display_data';\n",
              "        await google.colab.output.renderOutput(dataTable, element);\n",
              "        const docLink = document.createElement('div');\n",
              "        docLink.innerHTML = docLinkHtml;\n",
              "        element.appendChild(docLink);\n",
              "      }\n",
              "    </script>\n",
              "  </div>\n",
              "\n",
              "\n",
              "    <div id=\"df-8d2ede19-abfe-42ed-b5fe-2ae7b42cf723\">\n",
              "      <button class=\"colab-df-quickchart\" onclick=\"quickchart('df-8d2ede19-abfe-42ed-b5fe-2ae7b42cf723')\"\n",
              "                title=\"Suggest charts\"\n",
              "                style=\"display:none;\">\n",
              "\n",
              "<svg xmlns=\"http://www.w3.org/2000/svg\" height=\"24px\"viewBox=\"0 0 24 24\"\n",
              "     width=\"24px\">\n",
              "    <g>\n",
              "        <path d=\"M19 3H5c-1.1 0-2 .9-2 2v14c0 1.1.9 2 2 2h14c1.1 0 2-.9 2-2V5c0-1.1-.9-2-2-2zM9 17H7v-7h2v7zm4 0h-2V7h2v10zm4 0h-2v-4h2v4z\"/>\n",
              "    </g>\n",
              "</svg>\n",
              "      </button>\n",
              "\n",
              "<style>\n",
              "  .colab-df-quickchart {\n",
              "      --bg-color: #E8F0FE;\n",
              "      --fill-color: #1967D2;\n",
              "      --hover-bg-color: #E2EBFA;\n",
              "      --hover-fill-color: #174EA6;\n",
              "      --disabled-fill-color: #AAA;\n",
              "      --disabled-bg-color: #DDD;\n",
              "  }\n",
              "\n",
              "  [theme=dark] .colab-df-quickchart {\n",
              "      --bg-color: #3B4455;\n",
              "      --fill-color: #D2E3FC;\n",
              "      --hover-bg-color: #434B5C;\n",
              "      --hover-fill-color: #FFFFFF;\n",
              "      --disabled-bg-color: #3B4455;\n",
              "      --disabled-fill-color: #666;\n",
              "  }\n",
              "\n",
              "  .colab-df-quickchart {\n",
              "    background-color: var(--bg-color);\n",
              "    border: none;\n",
              "    border-radius: 50%;\n",
              "    cursor: pointer;\n",
              "    display: none;\n",
              "    fill: var(--fill-color);\n",
              "    height: 32px;\n",
              "    padding: 0;\n",
              "    width: 32px;\n",
              "  }\n",
              "\n",
              "  .colab-df-quickchart:hover {\n",
              "    background-color: var(--hover-bg-color);\n",
              "    box-shadow: 0 1px 2px rgba(60, 64, 67, 0.3), 0 1px 3px 1px rgba(60, 64, 67, 0.15);\n",
              "    fill: var(--button-hover-fill-color);\n",
              "  }\n",
              "\n",
              "  .colab-df-quickchart-complete:disabled,\n",
              "  .colab-df-quickchart-complete:disabled:hover {\n",
              "    background-color: var(--disabled-bg-color);\n",
              "    fill: var(--disabled-fill-color);\n",
              "    box-shadow: none;\n",
              "  }\n",
              "\n",
              "  .colab-df-spinner {\n",
              "    border: 2px solid var(--fill-color);\n",
              "    border-color: transparent;\n",
              "    border-bottom-color: var(--fill-color);\n",
              "    animation:\n",
              "      spin 1s steps(1) infinite;\n",
              "  }\n",
              "\n",
              "  @keyframes spin {\n",
              "    0% {\n",
              "      border-color: transparent;\n",
              "      border-bottom-color: var(--fill-color);\n",
              "      border-left-color: var(--fill-color);\n",
              "    }\n",
              "    20% {\n",
              "      border-color: transparent;\n",
              "      border-left-color: var(--fill-color);\n",
              "      border-top-color: var(--fill-color);\n",
              "    }\n",
              "    30% {\n",
              "      border-color: transparent;\n",
              "      border-left-color: var(--fill-color);\n",
              "      border-top-color: var(--fill-color);\n",
              "      border-right-color: var(--fill-color);\n",
              "    }\n",
              "    40% {\n",
              "      border-color: transparent;\n",
              "      border-right-color: var(--fill-color);\n",
              "      border-top-color: var(--fill-color);\n",
              "    }\n",
              "    60% {\n",
              "      border-color: transparent;\n",
              "      border-right-color: var(--fill-color);\n",
              "    }\n",
              "    80% {\n",
              "      border-color: transparent;\n",
              "      border-right-color: var(--fill-color);\n",
              "      border-bottom-color: var(--fill-color);\n",
              "    }\n",
              "    90% {\n",
              "      border-color: transparent;\n",
              "      border-bottom-color: var(--fill-color);\n",
              "    }\n",
              "  }\n",
              "</style>\n",
              "\n",
              "      <script>\n",
              "        async function quickchart(key) {\n",
              "          const quickchartButtonEl =\n",
              "            document.querySelector('#' + key + ' button');\n",
              "          quickchartButtonEl.disabled = true;  // To prevent multiple clicks.\n",
              "          quickchartButtonEl.classList.add('colab-df-spinner');\n",
              "          try {\n",
              "            const charts = await google.colab.kernel.invokeFunction(\n",
              "                'suggestCharts', [key], {});\n",
              "          } catch (error) {\n",
              "            console.error('Error during call to suggestCharts:', error);\n",
              "          }\n",
              "          quickchartButtonEl.classList.remove('colab-df-spinner');\n",
              "          quickchartButtonEl.classList.add('colab-df-quickchart-complete');\n",
              "        }\n",
              "        (() => {\n",
              "          let quickchartButtonEl =\n",
              "            document.querySelector('#df-8d2ede19-abfe-42ed-b5fe-2ae7b42cf723 button');\n",
              "          quickchartButtonEl.style.display =\n",
              "            google.colab.kernel.accessAllowed ? 'block' : 'none';\n",
              "        })();\n",
              "      </script>\n",
              "    </div>\n",
              "\n",
              "    </div>\n",
              "  </div>\n"
            ],
            "application/vnd.google.colaboratory.intrinsic+json": {
              "type": "dataframe",
              "variable_name": "data",
              "summary": "{\n  \"name\": \"data\",\n  \"rows\": 998,\n  \"fields\": [\n    {\n      \"column\": \"ID\",\n      \"properties\": {\n        \"dtype\": \"number\",\n        \"std\": 288,\n        \"min\": 1,\n        \"max\": 1000,\n        \"num_unique_values\": 998,\n        \"samples\": [\n          454,\n          795,\n          210\n        ],\n        \"semantic_type\": \"\",\n        \"description\": \"\"\n      }\n    },\n    {\n      \"column\": \"HEADWORD\",\n      \"properties\": {\n        \"dtype\": \"string\",\n        \"num_unique_values\": 977,\n        \"samples\": [\n          \"\\ub178\\ub825 | \\ub178\\ub825\\ud558\\ub2e4\",\n          \"\\uc2eb\\uc5b4\\ud558\\ub2e4\",\n          \"\\ub0a8\\uc790\"\n        ],\n        \"semantic_type\": \"\",\n        \"description\": \"\"\n      }\n    },\n    {\n      \"column\": \"POS\",\n      \"properties\": {\n        \"dtype\": \"category\",\n        \"num_unique_values\": 17,\n        \"samples\": [\n          \"NOUN\",\n          \"ADJ\",\n          \"PRONOUN\"\n        ],\n        \"semantic_type\": \"\",\n        \"description\": \"\"\n      }\n    },\n    {\n      \"column\": \"ENGLISH\",\n      \"properties\": {\n        \"dtype\": \"string\",\n        \"num_unique_values\": 967,\n        \"samples\": [\n          \"university student\",\n          \"bird\",\n          \"to be salty\"\n        ],\n        \"semantic_type\": \"\",\n        \"description\": \"\"\n      }\n    },\n    {\n      \"column\": \"JAPANESE\",\n      \"properties\": {\n        \"dtype\": \"string\",\n        \"num_unique_values\": 966,\n        \"samples\": [\n          \"\\u5927\\u5b66\",\n          \"\\u66ae\\u3089\\u3059, \\u751f\\u6d3b\\u3059\\u308b, \\u4f4f\\u3080\",\n          \"\\u5bb6\"\n        ],\n        \"semantic_type\": \"\",\n        \"description\": \"\"\n      }\n    },\n    {\n      \"column\": \"SPANISH\",\n      \"properties\": {\n        \"dtype\": \"string\",\n        \"num_unique_values\": 944,\n        \"samples\": [\n          \"soldado, militar\",\n          \"carne de cerdo\",\n          \"cumplir, protejer\"\n        ],\n        \"semantic_type\": \"\",\n        \"description\": \"\"\n      }\n    },\n    {\n      \"column\": \"INDONESIAN\",\n      \"properties\": {\n        \"dtype\": \"string\",\n        \"num_unique_values\": 939,\n        \"samples\": [\n          \"bersih\",\n          \"to be (sebutan penghormatan pada \\uc788\\ub2e4)\\u00a0\",\n          \"kesempatan\"\n        ],\n        \"semantic_type\": \"\",\n        \"description\": \"\"\n      }\n    },\n    {\n      \"column\": \"EXAMPLE (KO)\",\n      \"properties\": {\n        \"dtype\": \"string\",\n        \"num_unique_values\": 998,\n        \"samples\": [\n          \"\\uadf8 \\ube68\\uac04\\uc0c9 \\ub4dc\\ub808\\uc2a4 \\ub108\\ub791 \\uc798 \\uc5b4\\uc6b8\\ub824.\",\n          \"\\uc5ec\\uae30\\uc5d0 \\uc774\\ub984\\uc744 \\uc801\\uc5b4\\uc8fc\\uc138\\uc694.\",\n          \"\\ub204\\uad6c\\uc138\\uc694?\"\n        ],\n        \"semantic_type\": \"\",\n        \"description\": \"\"\n      }\n    },\n    {\n      \"column\": \"EXAMPLE (EN)\",\n      \"properties\": {\n        \"dtype\": \"string\",\n        \"num_unique_values\": 996,\n        \"samples\": [\n          \"How about going on to the next topic?\",\n          \"The sun rises the same though a new year begins.\",\n          \"How many soldiers are there in Korea?\"\n        ],\n        \"semantic_type\": \"\",\n        \"description\": \"\"\n      }\n    },\n    {\n      \"column\": \"EXAMPLE (JA)\",\n      \"properties\": {\n        \"dtype\": \"string\",\n        \"num_unique_values\": 997,\n        \"samples\": [\n          \"\\u305d\\u306e\\u8d64\\u3044\\u30c9\\u30ec\\u30b9\\u304a\\u524d\\u306b\\u3088\\u304f\\u4f3c\\u5408\\u3046\\u3002\",\n          \"\\u5f53\\u793e\\u306b\\u306f\\u50cd\\u304d\\u624b\\u304c\\u5c11\\u306a\\u3044\\u3002\",\n          \"\\u3069\\u306a\\u305f\\u3067\\u3059\\u304b?\"\n        ],\n        \"semantic_type\": \"\",\n        \"description\": \"\"\n      }\n    },\n    {\n      \"column\": \"EXAMPLE (ES)\",\n      \"properties\": {\n        \"dtype\": \"string\",\n        \"num_unique_values\": 996,\n        \"samples\": [\n          \"Si sigues fumando te puedes morir joven.\",\n          \"El a\\u00f1o cambia pero el sol sala otra vez.\",\n          \"\\u00bfCu\\u00e1ntos soldados hay en Corea?\"\n        ],\n        \"semantic_type\": \"\",\n        \"description\": \"\"\n      }\n    },\n    {\n      \"column\": \"EXAMPLE (ID)\",\n      \"properties\": {\n        \"dtype\": \"string\",\n        \"num_unique_values\": 995,\n        \"samples\": [\n          \"Saya ingin memelihara kucing\",\n          \"Apakah anda yakin tidak akan berubah pikiran di saat terakhitr?\",\n          \"Saya menginginkan seorang bayi bulan ini.\"\n        ],\n        \"semantic_type\": \"\",\n        \"description\": \"\"\n      }\n    }\n  ]\n}"
            }
          },
          "metadata": {},
          "execution_count": 7
        }
      ]
    },
    {
      "cell_type": "markdown",
      "source": [
        "Testing the Model before Fine-tuning"
      ],
      "metadata": {
        "id": "-fRcaBzTH3O0"
      }
    },
    {
      "cell_type": "code",
      "source": [
        "# Extract English and Spanish sentences from the data\n",
        "source_sentences = data['EXAMPLE (EN)'].tolist()\n",
        "target_sentences = data['EXAMPLE (ES)'].tolist()\n",
        "\n",
        "# === TESTING THE MODEL ===\n",
        "translated_sentences = []\n",
        "\n",
        "# Loop through each English sentence and translate it to Spanish\n",
        "for sentence in source_sentences:\n",
        "    inputs = tokenizer(sentence, return_tensors=\"pt\", padding=True, truncation=True)\n",
        "    outputs = model.generate(inputs[\"input_ids\"])\n",
        "    translated_text = tokenizer.decode(outputs[0], skip_special_tokens=True)\n",
        "    translated_sentences.append(translated_text)\n",
        "\n",
        "# Compute BLEU score\n",
        "bleu_score = corpus_bleu(translated_sentences, [target_sentences]).score\n",
        "\n",
        "# Print the results\n",
        "for i in range(5):\n",
        "    print(f\"Original (English): {source_sentences[i]}\")\n",
        "    print(f\"Translation (Spanish): {translated_sentences[i]}\")\n",
        "    print(f\"Expected (Spanish): {target_sentences[i]}\\n\")\n",
        "\n",
        "print(f\"BLEU score: {bleu_score}\")"
      ],
      "metadata": {
        "colab": {
          "base_uri": "https://localhost:8080/"
        },
        "id": "5a58Qp5odM_n",
        "outputId": "a1dcaf47-429a-4df1-be7f-bf11ef339b9c",
        "collapsed": true
      },
      "execution_count": 8,
      "outputs": [
        {
          "output_type": "stream",
          "name": "stdout",
          "text": [
            "Original (English): The store opens at 10 A.M.\n",
            "Translation (Spanish): La tienda abre a las 10 A.M.\n",
            "Expected (Spanish): El almacén abre a las 10 de la mañana.\n",
            "\n",
            "Original (English): Do you like it? What's the price?\n",
            "Translation (Spanish): ¿Te gusta? ¿Cuál es el precio?\n",
            "Expected (Spanish): ¿Te gusta? ¿Cuál es el precio?\n",
            "\n",
            "Original (English): My house is near my school.\n",
            "Translation (Spanish): Mi casa está cerca de mi escuela.\n",
            "Expected (Spanish): Mi casa está cerca de mi escuela.\n",
            "\n",
            "Original (English): I sometimes drink beer.\n",
            "Translation (Spanish): A veces bebo cerveza.\n",
            "Expected (Spanish): A veces bebo cerveza.\n",
            "\n",
            "Original (English): Come tomorrow, if possible.\n",
            "Translation (Spanish): Ven mañana, si es posible.\n",
            "Expected (Spanish): Venga mañana, si es posible.\n",
            "\n",
            "BLEU score: 36.15391360994213\n"
          ]
        }
      ]
    },
    {
      "cell_type": "markdown",
      "source": [
        "#### Finetuning Model on Data"
      ],
      "metadata": {
        "id": "pTf16qGh5Spb"
      }
    },
    {
      "cell_type": "code",
      "source": [
        "#use GPU\n",
        "device = torch.device('cuda')\n",
        "model.to(device)"
      ],
      "metadata": {
        "colab": {
          "base_uri": "https://localhost:8080/"
        },
        "id": "S5sps0oTdM74",
        "outputId": "552be94e-5f92-4819-83db-da93e043ac5e"
      },
      "execution_count": 9,
      "outputs": [
        {
          "output_type": "execute_result",
          "data": {
            "text/plain": [
              "MarianMTModel(\n",
              "  (model): MarianModel(\n",
              "    (shared): Embedding(65001, 512, padding_idx=65000)\n",
              "    (encoder): MarianEncoder(\n",
              "      (embed_tokens): Embedding(65001, 512, padding_idx=65000)\n",
              "      (embed_positions): MarianSinusoidalPositionalEmbedding(512, 512)\n",
              "      (layers): ModuleList(\n",
              "        (0-5): 6 x MarianEncoderLayer(\n",
              "          (self_attn): MarianAttention(\n",
              "            (k_proj): Linear(in_features=512, out_features=512, bias=True)\n",
              "            (v_proj): Linear(in_features=512, out_features=512, bias=True)\n",
              "            (q_proj): Linear(in_features=512, out_features=512, bias=True)\n",
              "            (out_proj): Linear(in_features=512, out_features=512, bias=True)\n",
              "          )\n",
              "          (self_attn_layer_norm): LayerNorm((512,), eps=1e-05, elementwise_affine=True)\n",
              "          (activation_fn): SiLU()\n",
              "          (fc1): Linear(in_features=512, out_features=2048, bias=True)\n",
              "          (fc2): Linear(in_features=2048, out_features=512, bias=True)\n",
              "          (final_layer_norm): LayerNorm((512,), eps=1e-05, elementwise_affine=True)\n",
              "        )\n",
              "      )\n",
              "    )\n",
              "    (decoder): MarianDecoder(\n",
              "      (embed_tokens): Embedding(65001, 512, padding_idx=65000)\n",
              "      (embed_positions): MarianSinusoidalPositionalEmbedding(512, 512)\n",
              "      (layers): ModuleList(\n",
              "        (0-5): 6 x MarianDecoderLayer(\n",
              "          (self_attn): MarianAttention(\n",
              "            (k_proj): Linear(in_features=512, out_features=512, bias=True)\n",
              "            (v_proj): Linear(in_features=512, out_features=512, bias=True)\n",
              "            (q_proj): Linear(in_features=512, out_features=512, bias=True)\n",
              "            (out_proj): Linear(in_features=512, out_features=512, bias=True)\n",
              "          )\n",
              "          (activation_fn): SiLU()\n",
              "          (self_attn_layer_norm): LayerNorm((512,), eps=1e-05, elementwise_affine=True)\n",
              "          (encoder_attn): MarianAttention(\n",
              "            (k_proj): Linear(in_features=512, out_features=512, bias=True)\n",
              "            (v_proj): Linear(in_features=512, out_features=512, bias=True)\n",
              "            (q_proj): Linear(in_features=512, out_features=512, bias=True)\n",
              "            (out_proj): Linear(in_features=512, out_features=512, bias=True)\n",
              "          )\n",
              "          (encoder_attn_layer_norm): LayerNorm((512,), eps=1e-05, elementwise_affine=True)\n",
              "          (fc1): Linear(in_features=512, out_features=2048, bias=True)\n",
              "          (fc2): Linear(in_features=2048, out_features=512, bias=True)\n",
              "          (final_layer_norm): LayerNorm((512,), eps=1e-05, elementwise_affine=True)\n",
              "        )\n",
              "      )\n",
              "    )\n",
              "  )\n",
              "  (lm_head): Linear(in_features=512, out_features=65001, bias=False)\n",
              ")"
            ]
          },
          "metadata": {},
          "execution_count": 9
        }
      ]
    },
    {
      "cell_type": "code",
      "source": [
        "# Split into 80% training and 20% evaluation\n",
        "train_size = int(0.8 * len(data))\n",
        "train_data = data[:train_size]\n",
        "eval_data = data[train_size:]\n",
        "\n",
        "# Create Dataset objects for Hugging Face\n",
        "train_dict = {\"English\": train_data[\"EXAMPLE (EN)\"].tolist(), \"Spanish\": train_data['EXAMPLE (ES)'].tolist()}\n",
        "eval_dict = {\"English\": eval_data[\"EXAMPLE (EN)\"].tolist(), \"Spanish\": eval_data['EXAMPLE (ES)'].tolist()}\n",
        "datasets = DatasetDict({\n",
        "    \"train\": Dataset.from_dict(train_dict),\n",
        "    \"eval\": Dataset.from_dict(eval_dict)\n",
        "})"
      ],
      "metadata": {
        "id": "11-HVULR5zi0"
      },
      "execution_count": 10,
      "outputs": []
    },
    {
      "cell_type": "code",
      "source": [
        "# Tokenize data\n",
        "def tokenize_function(examples):\n",
        "    return tokenizer(examples[\"English\"], text_target=examples[\"Spanish\"], padding=True, truncation=True)\n",
        "\n",
        "# Map tokenization over dataset\n",
        "tokenized_datasets = datasets.map(tokenize_function, batched=True)"
      ],
      "metadata": {
        "id": "hPEShkhc5oIv"
      },
      "execution_count": null,
      "outputs": []
    },
    {
      "cell_type": "code",
      "source": [
        "# Data collator for dynamic padding\n",
        "collator = DataCollatorForSeq2Seq(tokenizer, model=model)\n",
        "\n",
        "# Set training arguments\n",
        "training_args = Seq2SeqTrainingArguments(\n",
        "    output_dir=\"./results\",\n",
        "    num_train_epochs=2,\n",
        "    save_total_limit=1,\n",
        "    eval_strategy='epoch',\n",
        "    predict_with_generate=True,\n",
        "    logging_dir=\"./logs\",\n",
        "    logging_steps=10,\n",
        "    save_strategy=\"no\",\n",
        "    report_to=\"none\",\n",
        ")"
      ],
      "metadata": {
        "id": "TWRBAea15oFV"
      },
      "execution_count": 12,
      "outputs": []
    },
    {
      "cell_type": "code",
      "source": [
        "# Define compute_metrics function for evaluation\n",
        "def compute_metrics(eval_preds):\n",
        "    predictions, labels = eval_preds\n",
        "\n",
        "    # Convert tensors to numpy arrays if necessary\n",
        "    if isinstance(predictions, torch.Tensor):\n",
        "        predictions = predictions.cpu().numpy()\n",
        "    if isinstance(labels, torch.Tensor):\n",
        "        labels = labels.cpu().numpy()\n",
        "\n",
        "    # Decode predictions\n",
        "    decoded_preds = tokenizer.batch_decode(predictions, skip_special_tokens=True)\n",
        "\n",
        "    # Decode labels, handling -100 masking for tokenizers\n",
        "    labels = [[label for label in batch if label != -100] for batch in labels]\n",
        "    decoded_labels = tokenizer.batch_decode(labels, skip_special_tokens=True)\n",
        "\n",
        "    # Compute metrics\n",
        "    precision, recall, f1, _ = precision_recall_fscore_support(\n",
        "        decoded_labels, decoded_preds, average=\"weighted\", zero_division=1\n",
        "    )\n",
        "    acc = accuracy_score(decoded_labels, decoded_preds)\n",
        "\n",
        "    # Calculate BLEU score\n",
        "    bleu = corpus_bleu(decoded_preds, [decoded_labels]).score\n",
        "\n",
        "    return {\"accuracy\": acc, \"f1\": f1, \"precision\": precision, \"recall\": recall, \"bleu\": bleu}\n"
      ],
      "metadata": {
        "id": "b3DNZjNO5oDJ"
      },
      "execution_count": 13,
      "outputs": []
    },
    {
      "cell_type": "code",
      "source": [
        "# Initialize Trainer\n",
        "trainer = Seq2SeqTrainer(\n",
        "    model=model,\n",
        "    args=training_args,\n",
        "    train_dataset=tokenized_datasets[\"train\"],\n",
        "    eval_dataset=tokenized_datasets[\"eval\"],\n",
        "    data_collator=collator,\n",
        "    tokenizer=tokenizer,\n",
        "    compute_metrics=compute_metrics,\n",
        ")\n",
        "\n",
        "# Train the model\n",
        "trainer.train()"
      ],
      "metadata": {
        "colab": {
          "base_uri": "https://localhost:8080/"
        },
        "id": "x7KJkFTB79Nx",
        "outputId": "b3fa6e20-9654-4b8f-ea9e-98a616f0607c"
      },
      "execution_count": 14,
      "outputs": [
        {
          "output_type": "stream",
          "name": "stderr",
          "text": [
            "/tmp/ipython-input-14-881825773.py:2: FutureWarning: `tokenizer` is deprecated and will be removed in version 5.0.0 for `Seq2SeqTrainer.__init__`. Use `processing_class` instead.\n",
            "  trainer = Seq2SeqTrainer(\n"
          ]
        },
        {
          "output_type": "stream",
          "name": "stdout",
          "text": [
            "{'loss': 1.3713, 'grad_norm': 4.593786716461182, 'learning_rate': 4.775e-05, 'epoch': 0.1}\n",
            "{'loss': 0.7524, 'grad_norm': 3.974125385284424, 'learning_rate': 4.525e-05, 'epoch': 0.2}\n",
            "{'loss': 0.6495, 'grad_norm': 4.395814418792725, 'learning_rate': 4.275e-05, 'epoch': 0.3}\n",
            "{'loss': 0.8092, 'grad_norm': 4.835759162902832, 'learning_rate': 4.025e-05, 'epoch': 0.4}\n",
            "{'loss': 0.6389, 'grad_norm': 3.843903064727783, 'learning_rate': 3.775e-05, 'epoch': 0.5}\n",
            "{'loss': 0.617, 'grad_norm': 2.682528495788574, 'learning_rate': 3.525e-05, 'epoch': 0.6}\n",
            "{'loss': 0.6101, 'grad_norm': 4.20250940322876, 'learning_rate': 3.275e-05, 'epoch': 0.7}\n",
            "{'loss': 0.7481, 'grad_norm': 4.187467575073242, 'learning_rate': 3.025e-05, 'epoch': 0.8}\n",
            "{'loss': 0.7511, 'grad_norm': 5.35354471206665, 'learning_rate': 2.7750000000000004e-05, 'epoch': 0.9}\n",
            "{'loss': 0.6944, 'grad_norm': 4.577513217926025, 'learning_rate': 2.525e-05, 'epoch': 1.0}\n",
            "{'eval_loss': 0.4903583228588104, 'eval_accuracy': 0.16, 'eval_f1': 0.16, 'eval_precision': 1.0, 'eval_recall': 0.16, 'eval_bleu': 47.38067719268638, 'eval_runtime': 5.814, 'eval_samples_per_second': 34.4, 'eval_steps_per_second': 4.3, 'epoch': 1.0}\n",
            "{'loss': 0.5429, 'grad_norm': 2.9357051849365234, 'learning_rate': 2.275e-05, 'epoch': 1.1}\n",
            "{'loss': 0.5893, 'grad_norm': 3.2069568634033203, 'learning_rate': 2.025e-05, 'epoch': 1.2}\n",
            "{'loss': 0.4877, 'grad_norm': 3.3364100456237793, 'learning_rate': 1.775e-05, 'epoch': 1.3}\n",
            "{'loss': 0.4265, 'grad_norm': 2.7881948947906494, 'learning_rate': 1.525e-05, 'epoch': 1.4}\n",
            "{'loss': 0.4443, 'grad_norm': 2.89750337600708, 'learning_rate': 1.2750000000000002e-05, 'epoch': 1.5}\n",
            "{'loss': 0.5901, 'grad_norm': 2.9321296215057373, 'learning_rate': 1.025e-05, 'epoch': 1.6}\n",
            "{'loss': 0.4349, 'grad_norm': 3.4553823471069336, 'learning_rate': 7.75e-06, 'epoch': 1.7}\n",
            "{'loss': 0.3881, 'grad_norm': 1.4014111757278442, 'learning_rate': 5.25e-06, 'epoch': 1.8}\n",
            "{'loss': 0.3935, 'grad_norm': 3.6567697525024414, 'learning_rate': 2.7500000000000004e-06, 'epoch': 1.9}\n",
            "{'loss': 0.3573, 'grad_norm': 2.998587131500244, 'learning_rate': 2.5000000000000004e-07, 'epoch': 2.0}\n",
            "{'eval_loss': 0.4921717047691345, 'eval_accuracy': 0.17, 'eval_f1': 0.17, 'eval_precision': 1.0, 'eval_recall': 0.17, 'eval_bleu': 47.205640759511105, 'eval_runtime': 5.118, 'eval_samples_per_second': 39.077, 'eval_steps_per_second': 4.885, 'epoch': 2.0}\n",
            "{'train_runtime': 28.1487, 'train_samples_per_second': 56.699, 'train_steps_per_second': 7.105, 'train_loss': 0.6148200166225434, 'epoch': 2.0}\n"
          ]
        },
        {
          "output_type": "execute_result",
          "data": {
            "text/plain": [
              "TrainOutput(global_step=200, training_loss=0.6148200166225434, metrics={'train_runtime': 28.1487, 'train_samples_per_second': 56.699, 'train_steps_per_second': 7.105, 'train_loss': 0.6148200166225434, 'epoch': 2.0})"
            ]
          },
          "metadata": {},
          "execution_count": 14
        }
      ]
    },
    {
      "cell_type": "code",
      "source": [
        "# Evaluate the model and print the results\n",
        "eval_results = trainer.evaluate()\n",
        "print(f\"Evaluation Results: {eval_results}\")"
      ],
      "metadata": {
        "colab": {
          "base_uri": "https://localhost:8080/"
        },
        "id": "Bc97yTno79L6",
        "outputId": "ca37531c-58b5-4ad9-d898-71f84140afa4"
      },
      "execution_count": 15,
      "outputs": [
        {
          "output_type": "stream",
          "name": "stdout",
          "text": [
            "{'eval_loss': 0.4921717047691345, 'eval_accuracy': 0.17, 'eval_f1': 0.17, 'eval_precision': 1.0, 'eval_recall': 0.17, 'eval_bleu': 47.205640759511105, 'eval_runtime': 5.9891, 'eval_samples_per_second': 33.394, 'eval_steps_per_second': 4.174, 'epoch': 2.0}\n",
            "Evaluation Results: {'eval_loss': 0.4921717047691345, 'eval_accuracy': 0.17, 'eval_f1': 0.17, 'eval_precision': 1.0, 'eval_recall': 0.17, 'eval_bleu': 47.205640759511105, 'eval_runtime': 5.9891, 'eval_samples_per_second': 33.394, 'eval_steps_per_second': 4.174, 'epoch': 2.0}\n"
          ]
        }
      ]
    },
    {
      "cell_type": "markdown",
      "source": [
        "#### Test Model"
      ],
      "metadata": {
        "id": "Zb3vvowCaxXO"
      }
    },
    {
      "cell_type": "code",
      "source": [
        "translated_sentences = []\n",
        "\n",
        "# Loop through each English sentence and translate it to Spanish\n",
        "for sentence in source_sentences[:10]:\n",
        "    inputs = tokenizer(sentence, return_tensors=\"pt\", padding=True, truncation=True).to(device)\n",
        "    outputs = model.generate(inputs[\"input_ids\"])\n",
        "    translated_text = tokenizer.decode(outputs[0], skip_special_tokens=True)\n",
        "    translated_sentences.append(translated_text)\n",
        "\n",
        "for i in range(len(source_sentences[:10])):\n",
        "    print(f\"Original (English): {source_sentences[i]}\")\n",
        "    print(f\"Translation (Spanish): {translated_sentences[i]}\")\n",
        "    print(f\"Expected (Spanish): {target_sentences[i]}\\n\")\n"
      ],
      "metadata": {
        "id": "7SLjkiGI8KWc",
        "colab": {
          "base_uri": "https://localhost:8080/"
        },
        "outputId": "204eeaf1-7295-4446-f035-38ef8b44fb3c"
      },
      "execution_count": 16,
      "outputs": [
        {
          "output_type": "stream",
          "name": "stdout",
          "text": [
            "Original (English): The store opens at 10 A.M.\n",
            "Translation (Spanish): El almacén abre a las 10 de la mañana.\n",
            "Expected (Spanish): El almacén abre a las 10 de la mañana.\n",
            "\n",
            "Original (English): Do you like it? What's the price?\n",
            "Translation (Spanish): ¿Te gusta? ¿Cuál es el precio?\n",
            "Expected (Spanish): ¿Te gusta? ¿Cuál es el precio?\n",
            "\n",
            "Original (English): My house is near my school.\n",
            "Translation (Spanish): Mi casa está cerca de mi escuela.\n",
            "Expected (Spanish): Mi casa está cerca de mi escuela.\n",
            "\n",
            "Original (English): I sometimes drink beer.\n",
            "Translation (Spanish): A veces bebo cerveza.\n",
            "Expected (Spanish): A veces bebo cerveza.\n",
            "\n",
            "Original (English): Come tomorrow, if possible.\n",
            "Translation (Spanish): Venga mañana, si es posible.\n",
            "Expected (Spanish): Venga mañana, si es posible.\n",
            "\n",
            "Original (English): My father went to Seoul early in the morning.\n",
            "Translation (Spanish): Mi padre fue a Seul temprano por la mañana.\n",
            "Expected (Spanish): Mi padre fue a Seul temprano por la mañana.\n",
            "\n",
            "Original (English): I taught her how to drive.\n",
            "Translation (Spanish): Le enseñé a conducir.\n",
            "Expected (Spanish): Le enseñé cómo conducir.\n",
            "\n",
            "Original (English): Have you looked inside your bag?\n",
            "Translation (Spanish): ¿Has mirado dentro de tu bolso?\n",
            "Expected (Spanish): ¿Has mirado dentro de tu bolso?\n",
            "\n",
            "Original (English): Oil is lighter than water.\n",
            "Translation (Spanish): El aceite es más ligero que el agua.\n",
            "Expected (Spanish): El aceite es más ligero que el agua.\n",
            "\n",
            "Original (English): My favorite singer is Yongpil Jo.\n",
            "Translation (Spanish): Mi cantante preferido es Yongpil Jo.\n",
            "Expected (Spanish): Mi cantante preferido es Yongpil Jo.\n",
            "\n"
          ]
        }
      ]
    },
    {
      "cell_type": "markdown",
      "source": [
        "The model has a higher BLEU score after finetuning, indicating that there has been improvement in handling context and words. BLEU score increased from 36.15 to 47.21"
      ],
      "metadata": {
        "id": "R97PhwVsdbN7"
      }
    }
  ]
}